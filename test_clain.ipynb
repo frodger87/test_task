{
 "cells": [
  {
   "cell_type": "markdown",
   "metadata": {},
   "source": [
    "Транзакция биткоина представляет собой набор входных и выходных адресов, а также указание сколько каждый адрес вносит биткоинов в данную транзакцию (для входных) или забирает из транзакции (для выходных адресов). Стоит заметить, что ничего не известно о том, сколько биткоинов переправляет конкретный входной адрес на любой другой из выходных. Также часть средств из суммы входов уходит в качестве сбора (fee) для майнеров при включении транзакции в новый блок. Мы можем найти fee (fee >= 0) как разницу между суммой входов и суммой выходов транзакции.\n",
    "\n",
    "-- Описание структуры файлов\n",
    "\n",
    "address_clust.csv включает в себя набор адресов из 1 и 2 кластера с указанием данного кластера.\n",
    "address_id - адрес\n",
    "cluster_id - кластер\n",
    "\n",
    "address_stats.csv включает в себя описание всех транзакций с участием в них адресов из файла address_clust.csv.\n",
    "id - просто id записи\n",
    "address_id - адрес\n",
    "transaction_id - транзакция\n",
    "received - сумма в сатоши (1 биткоин = 10^8 сатоши) полученная данным адресом в данной транзакции\n",
    "sent - сумма в сатоши отправленная данным адресом в данной транзакции\n",
    "\n",
    "Помимо имеющихся в address_clust.csv адресов, файл address_stats.csv содержит еще дополнительные адреса, являющиеся внешними по отношению к кластеру 1 и 2, можете сопоставить им всем кластер 0.\n",
    "\n",
    "-- Задача\n",
    "\n",
    "Сколько биткоинов отправил кластер 1 в кластер 2 и сколько кластер 2 отправил в кластер 1?\n",
    "Доп. вопросы:\n",
    "Сколько биткоинов отправил кластер 1 в кластер 0 и сколько кластер 0 отправил в кластер 1?\n",
    "Сколько биткоинов отправил кластер 2 в кластер 0 и сколько кластер 0 отправил в кластер 2?\n",
    "Сколько биткоинов потратил кластер 1 и кластер 2 на fee?"
   ]
  },
  {
   "cell_type": "code",
   "execution_count": 1,
   "metadata": {},
   "outputs": [],
   "source": [
    "import pandas as pd"
   ]
  },
  {
   "cell_type": "code",
   "execution_count": 2,
   "metadata": {},
   "outputs": [],
   "source": [
    "data_clust  = pd.read_csv('address_clust.csv')\n",
    "data_stats = pd.read_csv('address_stats.csv')"
   ]
  },
  {
   "cell_type": "code",
   "execution_count": 3,
   "metadata": {
    "scrolled": false
   },
   "outputs": [
    {
     "data": {
      "text/html": [
       "<div>\n",
       "<style scoped>\n",
       "    .dataframe tbody tr th:only-of-type {\n",
       "        vertical-align: middle;\n",
       "    }\n",
       "\n",
       "    .dataframe tbody tr th {\n",
       "        vertical-align: top;\n",
       "    }\n",
       "\n",
       "    .dataframe thead th {\n",
       "        text-align: right;\n",
       "    }\n",
       "</style>\n",
       "<table border=\"1\" class=\"dataframe\">\n",
       "  <thead>\n",
       "    <tr style=\"text-align: right;\">\n",
       "      <th></th>\n",
       "      <th>address_id</th>\n",
       "      <th>cluster_id</th>\n",
       "    </tr>\n",
       "  </thead>\n",
       "  <tbody>\n",
       "    <tr>\n",
       "      <th>0</th>\n",
       "      <td>71413451</td>\n",
       "      <td>1</td>\n",
       "    </tr>\n",
       "    <tr>\n",
       "      <th>1</th>\n",
       "      <td>71411914</td>\n",
       "      <td>1</td>\n",
       "    </tr>\n",
       "    <tr>\n",
       "      <th>2</th>\n",
       "      <td>71410369</td>\n",
       "      <td>1</td>\n",
       "    </tr>\n",
       "    <tr>\n",
       "      <th>3</th>\n",
       "      <td>71410100</td>\n",
       "      <td>1</td>\n",
       "    </tr>\n",
       "    <tr>\n",
       "      <th>4</th>\n",
       "      <td>71410040</td>\n",
       "      <td>1</td>\n",
       "    </tr>\n",
       "  </tbody>\n",
       "</table>\n",
       "</div>"
      ],
      "text/plain": [
       "   address_id  cluster_id\n",
       "0    71413451           1\n",
       "1    71411914           1\n",
       "2    71410369           1\n",
       "3    71410100           1\n",
       "4    71410040           1"
      ]
     },
     "execution_count": 3,
     "metadata": {},
     "output_type": "execute_result"
    }
   ],
   "source": [
    "data_clust.head()"
   ]
  },
  {
   "cell_type": "code",
   "execution_count": 4,
   "metadata": {
    "scrolled": false
   },
   "outputs": [
    {
     "data": {
      "text/html": [
       "<div>\n",
       "<style scoped>\n",
       "    .dataframe tbody tr th:only-of-type {\n",
       "        vertical-align: middle;\n",
       "    }\n",
       "\n",
       "    .dataframe tbody tr th {\n",
       "        vertical-align: top;\n",
       "    }\n",
       "\n",
       "    .dataframe thead th {\n",
       "        text-align: right;\n",
       "    }\n",
       "</style>\n",
       "<table border=\"1\" class=\"dataframe\">\n",
       "  <thead>\n",
       "    <tr style=\"text-align: right;\">\n",
       "      <th></th>\n",
       "      <th>id</th>\n",
       "      <th>address_id</th>\n",
       "      <th>transaction_id</th>\n",
       "      <th>received</th>\n",
       "      <th>sent</th>\n",
       "    </tr>\n",
       "  </thead>\n",
       "  <tbody>\n",
       "    <tr>\n",
       "      <th>0</th>\n",
       "      <td>87134765</td>\n",
       "      <td>46402336</td>\n",
       "      <td>19162323</td>\n",
       "      <td>0.0</td>\n",
       "      <td>1800000.0</td>\n",
       "    </tr>\n",
       "    <tr>\n",
       "      <th>1</th>\n",
       "      <td>87134766</td>\n",
       "      <td>45919235</td>\n",
       "      <td>19162323</td>\n",
       "      <td>0.0</td>\n",
       "      <td>1071052.0</td>\n",
       "    </tr>\n",
       "    <tr>\n",
       "      <th>2</th>\n",
       "      <td>87134767</td>\n",
       "      <td>46529090</td>\n",
       "      <td>19162323</td>\n",
       "      <td>1000000.0</td>\n",
       "      <td>0.0</td>\n",
       "    </tr>\n",
       "    <tr>\n",
       "      <th>3</th>\n",
       "      <td>87134768</td>\n",
       "      <td>46529091</td>\n",
       "      <td>19162323</td>\n",
       "      <td>1821052.0</td>\n",
       "      <td>0.0</td>\n",
       "    </tr>\n",
       "    <tr>\n",
       "      <th>4</th>\n",
       "      <td>87154706</td>\n",
       "      <td>46529090</td>\n",
       "      <td>19166856</td>\n",
       "      <td>0.0</td>\n",
       "      <td>1000000.0</td>\n",
       "    </tr>\n",
       "  </tbody>\n",
       "</table>\n",
       "</div>"
      ],
      "text/plain": [
       "         id  address_id  transaction_id   received       sent\n",
       "0  87134765    46402336        19162323        0.0  1800000.0\n",
       "1  87134766    45919235        19162323        0.0  1071052.0\n",
       "2  87134767    46529090        19162323  1000000.0        0.0\n",
       "3  87134768    46529091        19162323  1821052.0        0.0\n",
       "4  87154706    46529090        19166856        0.0  1000000.0"
      ]
     },
     "execution_count": 4,
     "metadata": {},
     "output_type": "execute_result"
    }
   ],
   "source": [
    "data_stats.head(5)"
   ]
  },
  {
   "cell_type": "code",
   "execution_count": 5,
   "metadata": {},
   "outputs": [
    {
     "data": {
      "text/plain": [
       "(76724, 5)"
      ]
     },
     "execution_count": 5,
     "metadata": {},
     "output_type": "execute_result"
    }
   ],
   "source": [
    "data_stats.shape"
   ]
  },
  {
   "cell_type": "code",
   "execution_count": 6,
   "metadata": {},
   "outputs": [],
   "source": [
    "#уберем дубликаты записей\n",
    "data_stats.drop_duplicates(inplace=True)"
   ]
  },
  {
   "cell_type": "code",
   "execution_count": 7,
   "metadata": {},
   "outputs": [
    {
     "data": {
      "text/plain": [
       "(54445, 5)"
      ]
     },
     "execution_count": 7,
     "metadata": {},
     "output_type": "execute_result"
    }
   ],
   "source": [
    "data_stats.shape"
   ]
  },
  {
   "cell_type": "code",
   "execution_count": 8,
   "metadata": {},
   "outputs": [],
   "source": [
    "#объеденим два сета по столбцу address_id\n",
    "data = data_stats.merge(data_clust, how='left', on='address_id')"
   ]
  },
  {
   "cell_type": "code",
   "execution_count": 9,
   "metadata": {
    "scrolled": false
   },
   "outputs": [
    {
     "data": {
      "text/html": [
       "<div>\n",
       "<style scoped>\n",
       "    .dataframe tbody tr th:only-of-type {\n",
       "        vertical-align: middle;\n",
       "    }\n",
       "\n",
       "    .dataframe tbody tr th {\n",
       "        vertical-align: top;\n",
       "    }\n",
       "\n",
       "    .dataframe thead th {\n",
       "        text-align: right;\n",
       "    }\n",
       "</style>\n",
       "<table border=\"1\" class=\"dataframe\">\n",
       "  <thead>\n",
       "    <tr style=\"text-align: right;\">\n",
       "      <th></th>\n",
       "      <th>id</th>\n",
       "      <th>address_id</th>\n",
       "      <th>transaction_id</th>\n",
       "      <th>received</th>\n",
       "      <th>sent</th>\n",
       "      <th>cluster_id</th>\n",
       "    </tr>\n",
       "  </thead>\n",
       "  <tbody>\n",
       "    <tr>\n",
       "      <th>0</th>\n",
       "      <td>87134765</td>\n",
       "      <td>46402336</td>\n",
       "      <td>19162323</td>\n",
       "      <td>0.0</td>\n",
       "      <td>1800000.0</td>\n",
       "      <td>NaN</td>\n",
       "    </tr>\n",
       "    <tr>\n",
       "      <th>1</th>\n",
       "      <td>87134766</td>\n",
       "      <td>45919235</td>\n",
       "      <td>19162323</td>\n",
       "      <td>0.0</td>\n",
       "      <td>1071052.0</td>\n",
       "      <td>NaN</td>\n",
       "    </tr>\n",
       "    <tr>\n",
       "      <th>2</th>\n",
       "      <td>87134767</td>\n",
       "      <td>46529090</td>\n",
       "      <td>19162323</td>\n",
       "      <td>1000000.0</td>\n",
       "      <td>0.0</td>\n",
       "      <td>1.0</td>\n",
       "    </tr>\n",
       "    <tr>\n",
       "      <th>3</th>\n",
       "      <td>87134768</td>\n",
       "      <td>46529091</td>\n",
       "      <td>19162323</td>\n",
       "      <td>1821052.0</td>\n",
       "      <td>0.0</td>\n",
       "      <td>NaN</td>\n",
       "    </tr>\n",
       "    <tr>\n",
       "      <th>4</th>\n",
       "      <td>87154706</td>\n",
       "      <td>46529090</td>\n",
       "      <td>19166856</td>\n",
       "      <td>0.0</td>\n",
       "      <td>1000000.0</td>\n",
       "      <td>1.0</td>\n",
       "    </tr>\n",
       "  </tbody>\n",
       "</table>\n",
       "</div>"
      ],
      "text/plain": [
       "         id  address_id  transaction_id   received       sent  cluster_id\n",
       "0  87134765    46402336        19162323        0.0  1800000.0         NaN\n",
       "1  87134766    45919235        19162323        0.0  1071052.0         NaN\n",
       "2  87134767    46529090        19162323  1000000.0        0.0         1.0\n",
       "3  87134768    46529091        19162323  1821052.0        0.0         NaN\n",
       "4  87154706    46529090        19166856        0.0  1000000.0         1.0"
      ]
     },
     "execution_count": 9,
     "metadata": {},
     "output_type": "execute_result"
    }
   ],
   "source": [
    "data.head(5)"
   ]
  },
  {
   "cell_type": "code",
   "execution_count": 10,
   "metadata": {},
   "outputs": [],
   "source": [
    "#заменим NaN значения в столбце cluster_id на 0\n",
    "data.cluster_id = data.cluster_id.fillna(0)"
   ]
  },
  {
   "cell_type": "code",
   "execution_count": 11,
   "metadata": {},
   "outputs": [],
   "source": [
    "#создаем сет только для 1 кластера\n",
    "data_1 = data[data.cluster_id == 1]\n",
    "#создаем сет для 2 кластера\n",
    "data_2 = data[data.cluster_id == 2]\n",
    "#создаем сет для 0 кластера\n",
    "data_0 = data[data.cluster_id == 0]"
   ]
  },
  {
   "cell_type": "markdown",
   "metadata": {},
   "source": [
    "Сколько биткоинов отправлено из 1 кластера во 2, сколько биткоинов отправлено из 2 кластера в 1 кластер?"
   ]
  },
  {
   "cell_type": "markdown",
   "metadata": {},
   "source": [
    "Для нахождения суммы биткоинов отправленных из первого кластера во второй, мы пройдемся по уникальному списку всех транзакций где spent > 0 в 1 кластере, просуммируем, и вычтем received этой же транзакции 1 кластера, вычтем received этой же транзакции 0 кластера                                                                 "
   ]
  },
  {
   "cell_type": "code",
   "execution_count": 31,
   "metadata": {
    "scrolled": true
   },
   "outputs": [
    {
     "name": "stdout",
     "output_type": "stream",
     "text": [
      "65.123964 Биткоинов отправлено из 1 кластера вo 2 кластер\n"
     ]
    }
   ],
   "source": [
    "send_1_to_2_btс = 0\n",
    "for i in data_1[data_1.sent > 0].transaction_id.unique():\n",
    "    send_1_to_2_btс += (data_1[data_1.transaction_id == i]['sent'].sum() \n",
    "                        - data_1[data_1.transaction_id == i]['received'].sum() \n",
    "                        - data_0[data_0.transaction_id == i]['received'].sum())\n",
    "    \n",
    "print('{} Биткоинов отправлено из 1 кластера вo 2 кластер'.format(send_1_to_2_btс/10**8)) "
   ]
  },
  {
   "cell_type": "markdown",
   "metadata": {},
   "source": [
    "Аналогично проделываем для нахождения суммы биткоинов из 2 кластера в 1"
   ]
  },
  {
   "cell_type": "code",
   "execution_count": 32,
   "metadata": {},
   "outputs": [
    {
     "name": "stdout",
     "output_type": "stream",
     "text": [
      "68.28295861 Биткоинов отправлено из 2 кластера в 1 кластер\n"
     ]
    }
   ],
   "source": [
    "send_2_to_1_btс = 0\n",
    "for i in data_2[data_2.sent > 0].transaction_id.unique():\n",
    "    send_2_to_1_btс += (data_2[data_2.transaction_id == i]['sent'].sum() \n",
    "    - data_2[data_2.transaction_id == i]['received'].sum() \n",
    "    - data_0[data_0.transaction_id == i]['received'].sum())\n",
    "    \n",
    "print('{} Биткоинов отправлено из 2 кластера в 1 кластер'.format(send_2_to_1_btс/10**8))"
   ]
  },
  {
   "cell_type": "markdown",
   "metadata": {},
   "source": [
    "Сколько биткоинов потратил кластер 1 и кластер 2 на fee?"
   ]
  },
  {
   "cell_type": "code",
   "execution_count": 20,
   "metadata": {},
   "outputs": [
    {
     "name": "stdout",
     "output_type": "stream",
     "text": [
      "0.502344 Биткоинов на fee в 1 кластере потрачено\n"
     ]
    }
   ],
   "source": [
    "fee_1 = 0\n",
    "for i in data_1[data_1.sent > 0].transaction_id.unique():\n",
    "    fee_1 += (data[data.transaction_id == i].sent.sum() \n",
    "              - data[data.transaction_id == i].received.sum())\n",
    "    \n",
    "print('{} Биткоинов на fee в 1 кластере потрачено'.format(fee_1/10**8))"
   ]
  },
  {
   "cell_type": "code",
   "execution_count": 21,
   "metadata": {},
   "outputs": [
    {
     "name": "stdout",
     "output_type": "stream",
     "text": [
      "0.37295861 Биткоинов на fee в 2 кластере потрачено\n"
     ]
    }
   ],
   "source": [
    "fee_2 = 0\n",
    "for i in data_2[data_2.sent > 0].transaction_id.unique():\n",
    "    fee_2 += (data[data.transaction_id == i].sent.sum() \n",
    "              - data[data.transaction_id == i].received.sum())\n",
    "    \n",
    "print('{} Биткоинов на fee в 2 кластере потрачено'.format(fee_2/10**8))"
   ]
  },
  {
   "cell_type": "markdown",
   "metadata": {},
   "source": [
    "Сколько биткоинов отправлено из 0 кластера в 1, сколько биткоинов отправлено из 1 кластера в 0 кластер?"
   ]
  },
  {
   "cell_type": "markdown",
   "metadata": {},
   "source": [
    "Считать будем аналогично, только для правильного результата из общей суммы надо вычесть fee  кластера, т.к. мы не учитываем это в формуле"
   ]
  },
  {
   "cell_type": "code",
   "execution_count": 59,
   "metadata": {},
   "outputs": [
    {
     "name": "stdout",
     "output_type": "stream",
     "text": [
      "291.5108346 Биткоинов отправлено из 1 кластера в 0 кластер\n"
     ]
    }
   ],
   "source": [
    "send_1_to_0_btс = 0\n",
    "for i in data_1[data_1.sent > 0].transaction_id.unique():\n",
    "    send_1_to_0_btс += (data_1[data_1.transaction_id == i]['sent'].sum()\n",
    "                        - data_1[data_1.transaction_id == i]['received'].sum()\n",
    "                        - data_2[data_2.transaction_id == i]['received'].sum()) \n",
    "    \n",
    "print('{} Биткоинов отправлено из 1 кластера в 0 кластер'.format((send_1_to_0_btс/10**8) - fee_1/10**8))"
   ]
  },
  {
   "cell_type": "code",
   "execution_count": 17,
   "metadata": {
    "scrolled": true
   },
   "outputs": [
    {
     "name": "stdout",
     "output_type": "stream",
     "text": [
      "289.67679244 Биткоинов отправлено из 0 кластера в 1 кластер\n"
     ]
    }
   ],
   "source": [
    "send_0_to_1_btс = 0\n",
    "for i in data_0[data_0.sent > 0].transaction_id.unique():\n",
    "    send_0_to_1_btс += (data_0[data_0.transaction_id == i]['sent'].sum()\n",
    "                        - data_0[data_0.transaction_id == i]['received'].sum() \n",
    "                        - data_2[data_2.transaction_id == i]['received'].sum())\n",
    "\n",
    "print('{} Биткоинов отправлено из 0 кластера в 1 кластер'.format(send_0_to_1_btс/10**8))"
   ]
  },
  {
   "cell_type": "markdown",
   "metadata": {},
   "source": [
    "Сколько биткоинов отправлено из 0 кластера во 2, сколько биткоинов отправлено из 2 кластера в 0 кластер?"
   ]
  },
  {
   "cell_type": "code",
   "execution_count": 62,
   "metadata": {},
   "outputs": [
    {
     "name": "stdout",
     "output_type": "stream",
     "text": [
      "2.43507 Биткоинов отправлено из 2 кластера в 0 кластер\n"
     ]
    }
   ],
   "source": [
    "send_2_to_0_btс = 0\n",
    "for i in data_2[data_2.sent > 0].transaction_id.unique():\n",
    "    send_2_to_0_btс += (data_2[data_2.transaction_id == i]['sent'].sum() \n",
    "                        - data_2[data_2.transaction_id == i]['received'].sum() \n",
    "                        - data_1[data_1.transaction_id == i]['received'].sum())\n",
    "    \n",
    "print('{} Биткоинов отправлено из 2 кластера в 0 кластер'.format(send_2_to_0_btс/10**8 - fee_2/10**8))"
   ]
  },
  {
   "cell_type": "code",
   "execution_count": 19,
   "metadata": {},
   "outputs": [
    {
     "name": "stdout",
     "output_type": "stream",
     "text": [
      "6.98261245 Биткоинов отправлено из 0 кластера в 2 кластер\n"
     ]
    }
   ],
   "source": [
    "send_0_to_2_btс = 0\n",
    "for i in data_0[data_0.sent > 0].transaction_id.unique():\n",
    "    send_0_to_2_btс += (data_0[data_0.transaction_id == i]['sent'].sum() \n",
    "                        - data_0[data_0.transaction_id == i]['received'].sum() \n",
    "                        - data_1[data_1.transaction_id == i]['received'].sum()) \n",
    "\n",
    "print('{} Биткоинов отправлено из 0 кластера в 2 кластер'.format(send_0_to_2_btс/10**8))"
   ]
  }
 ],
 "metadata": {
  "kernelspec": {
   "display_name": "Python 3",
   "language": "python",
   "name": "python3"
  },
  "language_info": {
   "codemirror_mode": {
    "name": "ipython",
    "version": 3
   },
   "file_extension": ".py",
   "mimetype": "text/x-python",
   "name": "python",
   "nbconvert_exporter": "python",
   "pygments_lexer": "ipython3",
   "version": "3.7.3"
  }
 },
 "nbformat": 4,
 "nbformat_minor": 2
}
